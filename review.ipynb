{
 "cells": [
  {
   "cell_type": "markdown",
   "metadata": {},
   "source": [
    "# Review de Terminología y Conceptos Básicos\n",
    "## Variables aleatorias discretas\n",
    "Definimos X como una variable aleatoria. Si el numero de posibles valores de X es finita, o contablemente infinita, entonces x es una variable aleatoria discreta.\n",
    "\n",
    "Las posibilidades de X pueden ser listadas como x1, x2, ..., xn.\n",
    "\n",
    "### Ejemplo\n",
    "Se observa el numero de trabajos que llegan en un taller de trabajo. La variable aleatoria de interés es X, donde:\n",
    "\n",
    "> X = numero de trabajos que llegan cada semana\n",
    "\n",
    "Los posibles valores de X están dadas en un rango de espacio de X, denotado por Rx. Donde Rx = {0, 1, 2, ...}\n",
    "\n",
    "Definamos X como una variable aleatoria discreta. Con casa posibilidad de salida xi en Rx, un numero p(xi) = P(X = xi) da la probabilidad que el numero de la variable aleatoria sea igual a xi.\n",
    "\n",
    "Los números p(xi), i = 1, 2, ..., deben de cumplir estas condiciones:\n",
    "\n",
    "> p($x_{i}$) >= 0, para todo i\n",
    "\n",
    "> $\\sum_{i=1}^{\\infty} p(x_{i}) = 1$\n",
    "\n",
    "Distribución de X: Colección de pares ( $x_{i}$, p($x_{i}$) ), i = 1, 2, ...\n",
    "\n",
    "Función de probabilidad: p($x_{i}$), (pmf - probability mass function)"
   ]
  },
  {
   "cell_type": "markdown",
   "metadata": {},
   "source": [
    "### Dado\n",
    "Considera el experimento de lanzar un dado.\n",
    "> X = Numero de puntos en la cara del dado después de lanzarlo\n",
    "\n",
    "> $R_{x}$ = {1, 2, 3, 4, 5, 6}\n",
    "\n",
    "Asume que el dado esta cargado y su probabilidad es proporcional al numero de puntos que muestra. Dado que la funcion de distribucion es:\n",
    "\n",
    "| $x_{i}$ | 1 | 2 | 3 | 4 | 5 | 6 |\n",
    "|---|---|---|---|---|---|---|\n",
    "| p($x_{i}$) | 1/21 | 2/21 | 3/21 | 4/21 | 5/21 | 6/21 |\n",
    "\n",
    "Demuestra que las dos condiciones previamente mencionados se satisfagan:"
   ]
  },
  {
   "cell_type": "code",
   "execution_count": null,
   "metadata": {},
   "outputs": [],
   "source": [
    "# TODO: Demostrar las condiciones"
   ]
  },
  {
   "cell_type": "code",
   "execution_count": null,
   "metadata": {},
   "outputs": [],
   "source": [
    "# TODO: Usa pandas/numpy/matplot para generar una gráfica de barras de la distribución de probabilidad"
   ]
  },
  {
   "cell_type": "markdown",
   "metadata": {},
   "source": [
    "## Variables aleatorias continuas\n",
    "Si el rango de espacio $R_{x}$ de la variable aleatoria X es un intervalo o una coleccion de intervalos, X es una variable aleatoria continua.\n",
    "\n",
    "Para ella, la probabilidad de que X este en el intervalo [a, b] esta dado por:\n",
    "\n",
    "> $P(a \\le X \\le b ) = \\int_{a}^{b} f(x) dx$\n",
    "\n",
    "La funcion f(x) se llama funcion de densidad de probabilidad (pdf por sus siglas en ingles). Esta tiene que complir con las siguientes condicciones:\n",
    "\n",
    "> $f(x) \\ge 0$ para todo x en $R_{x}$\n",
    "\n",
    "> $\\int_{Rx} f(x)dx = 1 $\n",
    "\n",
    "> f(x) = 0 si x no esta en $R_{X}$\n",
    "\n",
    "Como resultado, para cada valor especifico $x_{0}, P(X = x_{0}) = 0$, porque: $\\int_{x_{0}}^{x_{0}} f(x)dx = 0$\n",
    "\n",
    "### Ejemplo\n",
    "La vida de un dispositivo que es utilizada para inspeccionar fallas en las alas de un avion esta dada por X, una variable aleatoria continua asumiendo que todos los valores dentro del rango $x \\ge 0$. El pdf del tiempo de vida esta dada en anios y se define de la siguiente manera:\n",
    "\n",
    "> $f(x) = \\frac{1}{2} e^{\\frac{-x}{2}};$ si $x \\ge 0$\n",
    "\n",
    "> $f(x) = 0;$ si $x < 0$\n",
    "\n",
    "El pdf es mostrado en la siguiente imagen. La variable aleatoria X tiene una distribución exponencial con una media de 2 anios.\n",
    "\n",
    "![](pdf.jpg)\n",
    "\n",
    "#### Ejercicio\n",
    "Calcular la probabilidad de que la vida del dispositivo sea entre 2 y 4 anios.\n",
    "\n",
    "$P( 2 \\le X \\le 4) = \\frac{1}{2} \\int_{2}^{4} e^{\\frac{-x}{2}}dx$"
   ]
  },
  {
   "cell_type": "markdown",
   "metadata": {},
   "source": [
    "## Función de distribución acumulativa (cdf)\n",
    "\n",
    "cdf denotado por F(x), mide la probabilidad que una variable aleatoria X asuma un valor igual o menor de x. Es decir $F(x) = P(X \\le x)$.\n",
    "\n",
    "Si X es discreta:\n",
    "$F(x) = \\sum_{x_{i} \\le x }^{all} p(x_{i})$\n",
    "\n",
    "Si es continua:\n",
    "$F(x) = \\int_{-\\infty}^{x}f(t)dt$.\n",
    "\n",
    "Algunas de sus propiedades son:\n",
    "> F es una funcion no decresiente. Esto es si a < b, entonces $F(a) \\le F(b)$\n",
    "\n",
    "> $\\lim_{ x \\to \\infty} F(x) = 1$\n",
    "\n",
    "> $\\lim_{ x \\to -\\infty} F(x) = 0$\n",
    "\n",
    "> $P(a < X \\le b) = F(b) - F(a)$ para cada a < b\n",
    "\n",
    "### Ejercicio Dado\n",
    "Describe la funcion de probabilidad acomulativa del ejercicio anterior del dado:\n",
    "\n",
    "| x | ($-\\infty$, 1) | [1, 2) | [2, 3) | [3, 4) | [4, 5) | [5, 6) | [6, $\\infty$) |\n",
    "|---|---|---|---|---|---|---|---|\n",
    "| $F(x)$ | 0 |  |  |  |  |  |  |\n",
    "\n",
    "### Ejercicio Dispositivo de Medición\n",
    "El cdf del ejercicio anterior esta dado por:\n",
    "\n",
    "> $F(x) = \\frac{1}{x} \\int_{0}^{x} e^{\\frac{-t}{2}}dt = 1 - e^{\\frac{-x}{2}}$\n",
    "\n",
    "1. Calcula la probabilidad que el dispositivo dure menos de 2 anios\n",
    "2. Calcula la probabilidad que el dispositivo dure entre 2 y 4 anios"
   ]
  },
  {
   "cell_type": "markdown",
   "metadata": {},
   "source": [
    "## Esperanza, media\n",
    "Si X es una variable aleatoria, la esperanza esta dada por E(X). Y esta definida de la siguiente manera:\n",
    "\n",
    "Discreta:\n",
    "$E(X) = \\sum_{toda\\_i} x_{i}p(x_{i})$\n",
    "\n",
    "Continua:\n",
    "$E(X) = \\int_{-\\infty}^{\\infty} x f(x) dx$\n",
    "\n",
    "Esta es una medida de la tendencia central de una variable aleatoria.\n",
    "\n",
    "## Varianza\n",
    "La varianza de una variable aleatoria X esta denotada por V(X) y esta definida por:\n",
    "\n",
    "$V(X) = E[(X - E[X])^{2}]$, o\n",
    "\n",
    "$V(X) = E(X^{2}) - [E(X)]^2$\n",
    "\n",
    "Esta mide la extencion o variacion de los valores posibles de X alrededor de la media.\n",
    "\n",
    "## Desviación estándar\n",
    "Esta esta definida por la raiz cuadrada de la varianza.\n",
    "$\\sigma = \\sqrt(V(X))$"
   ]
  },
  {
   "cell_type": "markdown",
   "metadata": {},
   "source": [
    "### Ejercicio\n",
    "\n",
    "Para el ejemplo del dado cargado:\n",
    "1. Calcula la media\n",
    "2. Calcula la varianza\n",
    "3. Calcula la desviación estándar\n",
    "\n",
    "\n",
    "Para el ejemplo del dispositivo de medición:\n",
    "1. Calcula la media\n",
    "2. Calcula la varianza\n",
    "3. Calcula la desviación estándar\n",
    "\n"
   ]
  },
  {
   "cell_type": "markdown",
   "metadata": {},
   "source": [
    "## Moda\n",
    "El valor que mas se repite"
   ]
  }
 ],
 "metadata": {
  "kernelspec": {
   "display_name": "Python 3.9.5 64-bit",
   "language": "python",
   "name": "python3"
  },
  "language_info": {
   "name": "python",
   "version": "3.9.5"
  },
  "orig_nbformat": 4,
  "vscode": {
   "interpreter": {
    "hash": "abda343d31edc18ef9cd745fb9d8fec11ceb3b3de4df0354c424e97df0c635f1"
   }
  }
 },
 "nbformat": 4,
 "nbformat_minor": 2
}
